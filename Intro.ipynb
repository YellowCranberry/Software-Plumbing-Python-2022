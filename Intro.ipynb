{
 "cells": [
  {
   "cell_type": "markdown",
   "metadata": {},
   "source": [
    "# Intro to Python"
   ]
  },
  {
   "cell_type": "markdown",
   "metadata": {},
   "source": [
    "\n",
    "### Topics\n",
    "\n",
    "- What is Python (how is it different than e.g. C++)\n",
    "- Why you should (or shouldn't) use Python\n",
    "- How Python is intended to be used or how to mitigate the cons, while using the pros\n",
    "- Useful tools\n",
    "    - Librairies\n",
    "    - Iterator design\n",
    "    - Data structures\n",
    "    - OOP design"
   ]
  },
  {
   "cell_type": "markdown",
   "metadata": {},
   "source": [
    "### What is the point, why are we coding?\n",
    "\n",
    "Mostly, we want to do good physics as quick and easily as possible. \n",
    "What are our use cases?\n",
    "- Data analysis: download data, parse data, look at data, plot data, use librairies to analyse data\n",
    "- Higher level software development: creating algorithms and tools to use on data, developing ML pipelines, developing higher level content within collaboration software \n",
    "- But really: doing quick and dirty checks, being able to rapidly load data, rapidly display and format plots, etc."
   ]
  },
  {
   "cell_type": "markdown",
   "metadata": {},
   "source": [
    "### So why Python?\n",
    "\n",
    "Python is an interpreted (or interactive) language. What this mean to you is that as far as you are concerned, Python is ***not*** compiled and just runs magically. You type something and it just happens, fantastic!\n",
    "\n",
    "![alt text](images/interpreter_vs_compiler.jpg \"Title\")"
   ]
  },
  {
   "cell_type": "markdown",
   "metadata": {},
   "source": [
    "Now obviously there are a lot of caviats with this sentence:\n",
    "- Languages can typically be both interpreted and compiled. You **can** compile your python code!\n",
    "- Even interpreted languages will usually be compiled for later use. If you run your python code twice, it will (usually) run much faster.\n",
    "- Ultimately, all languages have to be compiled to machine code. It just depends *how* you do it.\n",
    "\n",
    "What does it matter if it is compiled or interpreted?\n",
    "- Compiled: \n",
    "    - Whole source code is taken as a block and compiled into machine code at once.\n",
    "    - Will usually require more structure and explicit instructions for the compiler.\n",
    "    - Allows for more efficient usage of ressources, memory allocation and planning. Once compiled, it runs **fast**.\n",
    "    - Compiling can often take a long time too!\n",
    "\n",
    "- Interpreted:\n",
    "    - One line at a time, the code is parsed, compiled & ran.\n",
    "    - Once it is ran, the interpreter remembers and can run it faster!\n",
    "    - Poor planning due to \"line by line\" nature. Usually pretty **slow**.\n",
    "    - Very easy to debug, and perfect for interactive usage with data.\n",
    "\n",
    "![alt text](images/compiling_xkcd.png \"Title\")"
   ]
  },
  {
   "cell_type": "markdown",
   "metadata": {},
   "source": [
    "### Dual language design\n",
    "\n",
    "Because Python is so slow, the heavy lifting is often done using compiled languages such as C or Fortran. The dual language design is to use Python to run a backend written in C/C++/Fortran. This is what a lot of Physics collaboration do, and you can too!\n",
    "\n",
    "I will go over in more details how this can/should be used later in this notebook.\n"
   ]
  },
  {
   "cell_type": "markdown",
   "metadata": {},
   "source": [
    "### Let's set it up:\n",
    "\n",
    "You can download these notes from github at: https://github.com/YellowCranberry/Software-Plumbing-Python-2022  \n",
    "* Click \"Code\" and then clone it, or \"Download ZIP\".\n",
    "* The repository contains this Python Notebook (intro.ipynb), as well as a virtual environment with the librairies pre-installed.\n",
    "\n",
    "\n",
    "You can get a Python notebook IDE of your choice:\n",
    "- Jupyter notebook through Anaconda at: https://www.anaconda.com/products/distribution#windows \n",
    "- Visual studio at: https://code.visualstudio.com/download\n",
    "    - You can install the extension for Python and Jupyter Notebook from the left panel.\n"
   ]
  },
  {
   "cell_type": "code",
   "execution_count": 2,
   "metadata": {},
   "outputs": [
    {
     "name": "stdout",
     "output_type": "stream",
     "text": [
      "Collecting asttokens==2.1.0\n",
      "  Using cached asttokens-2.1.0-py2.py3-none-any.whl (26 kB)\n",
      "Requirement already satisfied: backcall==0.2.0 in c:\\users\\alexandre\\appdata\\local\\programs\\python\\python310\\lib\\site-packages (from -r ./requirements.txt (line 2)) (0.2.0)\n",
      "Collecting colorama==0.4.6\n",
      "  Using cached colorama-0.4.6-py2.py3-none-any.whl (25 kB)\n",
      "Collecting contourpy==1.0.6\n",
      "  Using cached contourpy-1.0.6-cp310-cp310-win_amd64.whl (163 kB)\n",
      "Collecting cycler==0.11.0\n",
      "  Using cached cycler-0.11.0-py3-none-any.whl (6.4 kB)\n",
      "Collecting debugpy==1.6.3\n",
      "  Using cached debugpy-1.6.3-cp310-cp310-win_amd64.whl (4.6 MB)\n",
      "Requirement already satisfied: decorator==5.1.1 in c:\\users\\alexandre\\appdata\\local\\programs\\python\\python310\\lib\\site-packages (from -r ./requirements.txt (line 7)) (5.1.1)\n",
      "Requirement already satisfied: entrypoints==0.4 in c:\\users\\alexandre\\appdata\\local\\programs\\python\\python310\\lib\\site-packages (from -r ./requirements.txt (line 8)) (0.4)\n",
      "Collecting executing==1.2.0\n",
      "  Using cached executing-1.2.0-py2.py3-none-any.whl (24 kB)\n",
      "Collecting fonttools==4.38.0\n",
      "  Using cached fonttools-4.38.0-py3-none-any.whl (965 kB)\n",
      "Collecting ipykernel==6.17.1\n",
      "  Using cached ipykernel-6.17.1-py3-none-any.whl (138 kB)\n",
      "Collecting ipython==8.6.0\n",
      "  Using cached ipython-8.6.0-py3-none-any.whl (761 kB)\n",
      "Requirement already satisfied: jedi==0.18.1 in c:\\users\\alexandre\\appdata\\local\\programs\\python\\python310\\lib\\site-packages (from -r ./requirements.txt (line 13)) (0.18.1)\n",
      "Collecting jupyter_client==7.4.7\n",
      "  Using cached jupyter_client-7.4.7-py3-none-any.whl (133 kB)\n",
      "Collecting jupyter_core==5.0.0\n",
      "  Using cached jupyter_core-5.0.0-py3-none-any.whl (91 kB)\n",
      "Collecting kiwisolver==1.4.4\n",
      "  Using cached kiwisolver-1.4.4-cp310-cp310-win_amd64.whl (55 kB)\n",
      "Collecting matplotlib==3.6.2\n",
      "  Using cached matplotlib-3.6.2-cp310-cp310-win_amd64.whl (7.2 MB)\n",
      "Collecting matplotlib-inline==0.1.6\n",
      "  Using cached matplotlib_inline-0.1.6-py3-none-any.whl (9.4 kB)\n",
      "Collecting nest-asyncio==1.5.6\n",
      "  Using cached nest_asyncio-1.5.6-py3-none-any.whl (5.2 kB)\n",
      "Collecting numpy==1.23.4\n",
      "  Using cached numpy-1.23.4-cp310-cp310-win_amd64.whl (14.6 MB)\n",
      "Requirement already satisfied: packaging==21.3 in c:\\users\\alexandre\\appdata\\local\\programs\\python\\python310\\lib\\site-packages (from -r ./requirements.txt (line 21)) (21.3)\n",
      "Collecting pandas==1.5.1\n",
      "  Using cached pandas-1.5.1-cp310-cp310-win_amd64.whl (10.4 MB)\n",
      "Requirement already satisfied: parso==0.8.3 in c:\\users\\alexandre\\appdata\\local\\programs\\python\\python310\\lib\\site-packages (from -r ./requirements.txt (line 23)) (0.8.3)\n",
      "Requirement already satisfied: pickleshare==0.7.5 in c:\\users\\alexandre\\appdata\\local\\programs\\python\\python310\\lib\\site-packages (from -r ./requirements.txt (line 24)) (0.7.5)\n",
      "Collecting Pillow==9.3.0\n",
      "  Using cached Pillow-9.3.0-cp310-cp310-win_amd64.whl (2.5 MB)\n",
      "Collecting platformdirs==2.5.4\n",
      "  Using cached platformdirs-2.5.4-py3-none-any.whl (14 kB)\n",
      "Collecting prompt-toolkit==3.0.32\n",
      "  Using cached prompt_toolkit-3.0.32-py3-none-any.whl (382 kB)\n",
      "Collecting psutil==5.9.4\n",
      "  Using cached psutil-5.9.4-cp36-abi3-win_amd64.whl (252 kB)\n",
      "Requirement already satisfied: pure-eval==0.2.2 in c:\\users\\alexandre\\appdata\\local\\programs\\python\\python310\\lib\\site-packages (from -r ./requirements.txt (line 29)) (0.2.2)\n",
      "Collecting Pygments==2.13.0\n",
      "  Using cached Pygments-2.13.0-py3-none-any.whl (1.1 MB)\n",
      "Requirement already satisfied: pyparsing==3.0.9 in c:\\users\\alexandre\\appdata\\local\\programs\\python\\python310\\lib\\site-packages (from -r ./requirements.txt (line 31)) (3.0.9)\n",
      "Requirement already satisfied: python-dateutil==2.8.2 in c:\\users\\alexandre\\appdata\\local\\programs\\python\\python310\\lib\\site-packages (from -r ./requirements.txt (line 32)) (2.8.2)\n",
      "Collecting pytz==2022.6\n",
      "  Using cached pytz-2022.6-py2.py3-none-any.whl (498 kB)\n",
      "Collecting pywin32==305\n",
      "  Using cached pywin32-305-cp310-cp310-win_amd64.whl (12.1 MB)\n",
      "Collecting pyzmq==24.0.1\n",
      "  Using cached pyzmq-24.0.1-cp310-cp310-win_amd64.whl (992 kB)\n",
      "Collecting scipy==1.9.3\n",
      "  Using cached scipy-1.9.3-cp310-cp310-win_amd64.whl (40.1 MB)\n",
      "Collecting seaborn==0.12.1\n",
      "  Using cached seaborn-0.12.1-py3-none-any.whl (288 kB)\n",
      "Requirement already satisfied: six==1.16.0 in c:\\users\\alexandre\\appdata\\local\\programs\\python\\python310\\lib\\site-packages (from -r ./requirements.txt (line 38)) (1.16.0)\n",
      "Collecting stack-data==0.6.1\n",
      "  Using cached stack_data-0.6.1-py3-none-any.whl (24 kB)\n",
      "Requirement already satisfied: tornado==6.2 in c:\\users\\alexandre\\appdata\\local\\programs\\python\\python310\\lib\\site-packages (from -r ./requirements.txt (line 40)) (6.2)\n",
      "Collecting traitlets==5.5.0\n",
      "  Using cached traitlets-5.5.0-py3-none-any.whl (107 kB)\n",
      "Requirement already satisfied: wcwidth==0.2.5 in c:\\users\\alexandre\\appdata\\local\\programs\\python\\python310\\lib\\site-packages (from -r ./requirements.txt (line 42)) (0.2.5)\n",
      "Installing collected packages: pywin32, pytz, executing, traitlets, pyzmq, Pygments, psutil, prompt-toolkit, platformdirs, Pillow, numpy, nest-asyncio, kiwisolver, fonttools, debugpy, cycler, colorama, asttokens, stack-data, scipy, pandas, matplotlib-inline, jupyter_core, contourpy, matplotlib, jupyter_client, ipython, seaborn, ipykernel\n",
      "  Attempting uninstall: pywin32\n",
      "    Found existing installation: pywin32 304\n",
      "    Uninstalling pywin32-304:\n",
      "      Successfully uninstalled pywin32-304\n"
     ]
    },
    {
     "name": "stderr",
     "output_type": "stream",
     "text": [
      "ERROR: Could not install packages due to an OSError: [WinError 5] Access is denied: 'C:\\\\Users\\\\Alexandre\\\\AppData\\\\Local\\\\Programs\\\\Python\\\\Python310\\\\Lib\\\\site-packages\\\\~ywin32_system32\\\\pythoncom310.dll'\n",
      "Consider using the `--user` option or check the permissions.\n",
      "\n",
      "WARNING: You are using pip version 22.0.4; however, version 22.3.1 is available.\n",
      "You should consider upgrading via the 'C:\\Users\\Alexandre\\AppData\\Local\\Programs\\Python\\Python310\\python.exe -m pip install --upgrade pip' command.\n"
     ]
    },
    {
     "name": "stdout",
     "output_type": "stream",
     "text": [
      "Collecting asttokens==2.1.0\n",
      "  Using cached asttokens-2.1.0-py2.py3-none-any.whl (26 kB)\n",
      "Requirement already satisfied: backcall==0.2.0 in c:\\users\\alexandre\\appdata\\local\\programs\\python\\python310\\lib\\site-packages (from -r ./requirements.txt (line 2)) (0.2.0)\n",
      "Collecting colorama==0.4.6\n",
      "  Using cached colorama-0.4.6-py2.py3-none-any.whl (25 kB)\n",
      "Collecting contourpy==1.0.6\n",
      "  Using cached contourpy-1.0.6-cp310-cp310-win_amd64.whl (163 kB)\n",
      "Collecting cycler==0.11.0\n",
      "  Using cached cycler-0.11.0-py3-none-any.whl (6.4 kB)\n",
      "Collecting debugpy==1.6.3\n",
      "  Using cached debugpy-1.6.3-cp310-cp310-win_amd64.whl (4.6 MB)\n",
      "Requirement already satisfied: decorator==5.1.1 in c:\\users\\alexandre\\appdata\\local\\programs\\python\\python310\\lib\\site-packages (from -r ./requirements.txt (line 7)) (5.1.1)\n",
      "Requirement already satisfied: entrypoints==0.4 in c:\\users\\alexandre\\appdata\\local\\programs\\python\\python310\\lib\\site-packages (from -r ./requirements.txt (line 8)) (0.4)\n",
      "Collecting executing==1.2.0\n",
      "  Using cached executing-1.2.0-py2.py3-none-any.whl (24 kB)\n",
      "Collecting fonttools==4.38.0\n",
      "  Using cached fonttools-4.38.0-py3-none-any.whl (965 kB)\n",
      "Collecting ipykernel==6.17.1\n",
      "  Using cached ipykernel-6.17.1-py3-none-any.whl (138 kB)\n",
      "Collecting ipython==8.6.0\n",
      "  Using cached ipython-8.6.0-py3-none-any.whl (761 kB)\n",
      "Requirement already satisfied: jedi==0.18.1 in c:\\users\\alexandre\\appdata\\local\\programs\\python\\python310\\lib\\site-packages (from -r ./requirements.txt (line 13)) (0.18.1)\n",
      "Collecting jupyter_client==7.4.7\n",
      "  Using cached jupyter_client-7.4.7-py3-none-any.whl (133 kB)\n",
      "Collecting jupyter_core==5.0.0\n",
      "  Using cached jupyter_core-5.0.0-py3-none-any.whl (91 kB)\n",
      "Collecting kiwisolver==1.4.4\n",
      "  Using cached kiwisolver-1.4.4-cp310-cp310-win_amd64.whl (55 kB)\n",
      "Collecting matplotlib==3.6.2\n",
      "  Using cached matplotlib-3.6.2-cp310-cp310-win_amd64.whl (7.2 MB)\n",
      "Collecting matplotlib-inline==0.1.6\n",
      "  Using cached matplotlib_inline-0.1.6-py3-none-any.whl (9.4 kB)\n",
      "Collecting nest-asyncio==1.5.6\n",
      "  Using cached nest_asyncio-1.5.6-py3-none-any.whl (5.2 kB)\n",
      "Collecting numpy==1.23.4\n",
      "  Using cached numpy-1.23.4-cp310-cp310-win_amd64.whl (14.6 MB)\n",
      "Requirement already satisfied: packaging==21.3 in c:\\users\\alexandre\\appdata\\local\\programs\\python\\python310\\lib\\site-packages (from -r ./requirements.txt (line 21)) (21.3)\n",
      "Collecting pandas==1.5.1\n",
      "  Using cached pandas-1.5.1-cp310-cp310-win_amd64.whl (10.4 MB)\n",
      "Requirement already satisfied: parso==0.8.3 in c:\\users\\alexandre\\appdata\\local\\programs\\python\\python310\\lib\\site-packages (from -r ./requirements.txt (line 23)) (0.8.3)\n",
      "Requirement already satisfied: pickleshare==0.7.5 in c:\\users\\alexandre\\appdata\\local\\programs\\python\\python310\\lib\\site-packages (from -r ./requirements.txt (line 24)) (0.7.5)\n",
      "Collecting Pillow==9.3.0\n",
      "  Using cached Pillow-9.3.0-cp310-cp310-win_amd64.whl (2.5 MB)\n",
      "Collecting platformdirs==2.5.4\n",
      "  Using cached platformdirs-2.5.4-py3-none-any.whl (14 kB)\n",
      "Collecting prompt-toolkit==3.0.32\n",
      "  Using cached prompt_toolkit-3.0.32-py3-none-any.whl (382 kB)\n",
      "Collecting psutil==5.9.4\n",
      "  Using cached psutil-5.9.4-cp36-abi3-win_amd64.whl (252 kB)\n",
      "Requirement already satisfied: pure-eval==0.2.2 in c:\\users\\alexandre\\appdata\\local\\programs\\python\\python310\\lib\\site-packages (from -r ./requirements.txt (line 29)) (0.2.2)\n",
      "Collecting Pygments==2.13.0\n",
      "  Using cached Pygments-2.13.0-py3-none-any.whl (1.1 MB)\n",
      "Requirement already satisfied: pyparsing==3.0.9 in c:\\users\\alexandre\\appdata\\local\\programs\\python\\python310\\lib\\site-packages (from -r ./requirements.txt (line 31)) (3.0.9)\n",
      "Requirement already satisfied: python-dateutil==2.8.2 in c:\\users\\alexandre\\appdata\\local\\programs\\python\\python310\\lib\\site-packages (from -r ./requirements.txt (line 32)) (2.8.2)\n",
      "Collecting pytz==2022.6\n",
      "  Using cached pytz-2022.6-py2.py3-none-any.whl (498 kB)\n",
      "Collecting pywin32==305\n",
      "  Using cached pywin32-305-cp310-cp310-win_amd64.whl (12.1 MB)\n",
      "Collecting pyzmq==24.0.1\n",
      "  Using cached pyzmq-24.0.1-cp310-cp310-win_amd64.whl (992 kB)\n",
      "Collecting scipy==1.9.3\n",
      "  Using cached scipy-1.9.3-cp310-cp310-win_amd64.whl (40.1 MB)\n",
      "Collecting seaborn==0.12.1\n",
      "  Using cached seaborn-0.12.1-py3-none-any.whl (288 kB)\n",
      "Requirement already satisfied: six==1.16.0 in c:\\users\\alexandre\\appdata\\local\\programs\\python\\python310\\lib\\site-packages (from -r ./requirements.txt (line 38)) (1.16.0)\n",
      "Collecting stack-data==0.6.1\n",
      "  Using cached stack_data-0.6.1-py3-none-any.whl (24 kB)\n",
      "Requirement already satisfied: tornado==6.2 in c:\\users\\alexandre\\appdata\\local\\programs\\python\\python310\\lib\\site-packages (from -r ./requirements.txt (line 40)) (6.2)\n",
      "Collecting traitlets==5.5.0\n",
      "  Using cached traitlets-5.5.0-py3-none-any.whl (107 kB)\n",
      "Requirement already satisfied: wcwidth==0.2.5 in c:\\users\\alexandre\\appdata\\local\\programs\\python\\python310\\lib\\site-packages (from -r ./requirements.txt (line 42)) (0.2.5)\n",
      "Installing collected packages: pywin32, pytz, executing, traitlets, pyzmq, Pygments, psutil, prompt-toolkit, platformdirs, Pillow, numpy, nest-asyncio, kiwisolver, fonttools, debugpy, cycler, colorama, asttokens, stack-data, scipy, pandas, matplotlib-inline, jupyter_core, contourpy, matplotlib, jupyter_client, ipython, seaborn, ipykernel\n",
      "  Attempting uninstall: pywin32\n",
      "    Found existing installation: pywin32 304\n",
      "    Can't uninstall 'pywin32'. No files were found to uninstall.\n",
      "  Attempting uninstall: executing\n",
      "    Found existing installation: executing 0.8.3\n",
      "    Uninstalling executing-0.8.3:\n",
      "      Successfully uninstalled executing-0.8.3\n",
      "  Attempting uninstall: traitlets\n",
      "    Found existing installation: traitlets 5.3.0\n",
      "    Uninstalling traitlets-5.3.0:\n",
      "      Successfully uninstalled traitlets-5.3.0\n",
      "  Attempting uninstall: pyzmq\n",
      "    Found existing installation: pyzmq 23.2.0\n",
      "    Uninstalling pyzmq-23.2.0:\n",
      "      Successfully uninstalled pyzmq-23.2.0\n",
      "Note: you may need to restart the kernel to use updated packages.\n"
     ]
    },
    {
     "name": "stderr",
     "output_type": "stream",
     "text": [
      "WARNING: Error parsing requirements for pywin32: [Errno 2] No such file or directory: 'c:\\\\users\\\\alexandre\\\\appdata\\\\local\\\\programs\\\\python\\\\python310\\\\lib\\\\site-packages\\\\pywin32-304.dist-info\\\\METADATA'\n",
      "    WARNING: No metadata found in c:\\users\\alexandre\\appdata\\local\\programs\\python\\python310\\lib\\site-packages\n",
      "    WARNING: No metadata found in c:\\users\\alexandre\\appdata\\local\\programs\\python\\python310\\lib\\site-packages\n",
      "    WARNING: No metadata found in c:\\users\\alexandre\\appdata\\local\\programs\\python\\python310\\lib\\site-packages\n",
      "    WARNING: No metadata found in c:\\users\\alexandre\\appdata\\local\\programs\\python\\python310\\lib\\site-packages\n",
      "    WARNING: No metadata found in c:\\users\\alexandre\\appdata\\local\\programs\\python\\python310\\lib\\site-packages\n",
      "    WARNING: No metadata found in c:\\users\\alexandre\\appdata\\local\\programs\\python\\python310\\lib\\site-packages\n",
      "    WARNING: No metadata found in c:\\users\\alexandre\\appdata\\local\\programs\\python\\python310\\lib\\site-packages\n",
      "ERROR: Could not install packages due to an OSError: [WinError 5] Access is denied: 'C:\\\\Users\\\\Alexandre\\\\AppData\\\\Local\\\\Programs\\\\Python\\\\Python310\\\\Lib\\\\site-packages\\\\~yzmq.libs\\\\libsodium-138090d4.dll'\n",
      "Consider using the `--user` option or check the permissions.\n",
      "\n",
      "WARNING: You are using pip version 22.0.4; however, version 22.3.1 is available.\n",
      "You should consider upgrading via the 'c:\\Users\\Alexandre\\AppData\\Local\\Programs\\Python\\Python310\\python.exe -m pip install --upgrade pip' command.\n"
     ]
    }
   ],
   "source": [
    "# Let's install the required librairies for this demo\n",
    "%pip install -r ./requirements.txt"
   ]
  },
  {
   "cell_type": "markdown",
   "metadata": {},
   "source": [
    "### Variable Declaration & Mathematical Expressions"
   ]
  },
  {
   "cell_type": "code",
   "execution_count": 1,
   "metadata": {},
   "outputs": [],
   "source": [
    "a = 1\n",
    "b = 3.0\n",
    "c = 2*a + b/a # multiplication and division\n",
    "d = c**b # exponentiation\n",
    "e, f = b%a, d//c # modulus and floor division "
   ]
  },
  {
   "cell_type": "markdown",
   "metadata": {},
   "source": [
    "No type declaration. Python variables are \"names\" that point to objects that have a type. Therefore, they are not reference type!\n",
    "\n",
    "So what are the types of these variables?"
   ]
  },
  {
   "cell_type": "code",
   "execution_count": 2,
   "metadata": {},
   "outputs": [
    {
     "name": "stdout",
     "output_type": "stream",
     "text": [
      "The type of a, 1, is: <class 'int'>.\n",
      "The type of b, 3.0, is: <class 'float'>.\n",
      "The type of c, 5.0, is: <class 'float'>.\n"
     ]
    }
   ],
   "source": [
    "print(f'The type of a, {a}, is: {type(a)}.')\n",
    "print(f'The type of b, {b}, is: {type(b)}.')\n",
    "print(f'The type of c, {c}, is: {type(c)}.')"
   ]
  },
  {
   "cell_type": "markdown",
   "metadata": {},
   "source": [
    "### Strings and Printing"
   ]
  },
  {
   "cell_type": "code",
   "execution_count": 3,
   "metadata": {},
   "outputs": [
    {
     "name": "stdout",
     "output_type": "stream",
     "text": [
      "A normal string\n",
      "An f string with variable input: c = 5.0\n",
      "An f string with special format: d = 125.00. You can add strings together to concatenate and even do math in here! 0.0 + 25.0 = 25.0\n"
     ]
    }
   ],
   "source": [
    "normal_string = \"A normal string\"\n",
    "print(normal_string)\n",
    "\n",
    "f_string = f\"An f string with variable input: c = {c}\"\n",
    "print(f_string)\n",
    "\n",
    "print(f\"An f string with special format: d = {d:.2f}.\" \\\n",
    "    + f' You can add strings together to concatenate and even do math in here! {e} + {f} = {e + f}')"
   ]
  },
  {
   "cell_type": "markdown",
   "metadata": {},
   "source": [
    "### Arrays, List\n",
    "\n",
    "Arrays are very important in Python. So called \"Pythonic\" code relies heavily on array-like operations to optimize speed!"
   ]
  },
  {
   "cell_type": "code",
   "execution_count": 4,
   "metadata": {},
   "outputs": [
    {
     "name": "stdout",
     "output_type": "stream",
     "text": [
      "print the list: [1, 2, 3] , print the array:[1 2 3]\n",
      "print the 2dlist: [[1, 2, 3], [4, 5, 6]]\n",
      "print the multi type list: [1, 3.5, 'potato']\n"
     ]
    }
   ],
   "source": [
    "import numpy\n",
    "\n",
    "my_list = [1, 2, 3] # lists are native to Python\n",
    "my_array = numpy.array(my_list) # arrays are numpy objects\n",
    "my_2dlist = [ [1, 2, 3],\n",
    "                [4, 5, 6]]\n",
    "\n",
    "print(f'print the list: {my_list}', f', print the array:{my_array}')\n",
    "print(f'print the 2dlist: {my_2dlist}')\n",
    "\n",
    "# list can contain more than one type!\n",
    "multi_type_list = [1, 3.5, \"potato\"]\n",
    "print(f'print the multi type list: {multi_type_list}')"
   ]
  },
  {
   "cell_type": "markdown",
   "metadata": {},
   "source": [
    "### Function Declaration\n",
    "\n",
    "As you will notice, \"my_addition\" does not have a specified input or return type. You can use it with any type you want! It will by default use the overiden operator for that variable type.\n",
    "\n",
    "Functions also don't have to return anything; they can be used to print or modify objects. You should always use a self-contained function when performing an action. "
   ]
  },
  {
   "cell_type": "code",
   "execution_count": 5,
   "metadata": {},
   "outputs": [
    {
     "name": "stdout",
     "output_type": "stream",
     "text": [
      "Addition of 1 and 3.0 is: 4.0\n",
      "Addition of 1 and nothing is: 2\n"
     ]
    }
   ],
   "source": [
    "def my_addition(x, y=1):\n",
    "    return x + y\n",
    "\n",
    "print(f'Addition of {a} and {b} is: {my_addition(a, b)}')\n",
    "print(f'Addition of {a} and nothing is: {my_addition(a)}')"
   ]
  },
  {
   "cell_type": "code",
   "execution_count": 6,
   "metadata": {},
   "outputs": [
    {
     "name": "stdout",
     "output_type": "stream",
     "text": [
      "Addition of Hello  and World! is: Hello World!\n",
      "Addition of [1, 2, 3] and [4, 5, 6] is: [1, 2, 3, 4, 5, 6]\n"
     ]
    }
   ],
   "source": [
    "s1 = \"Hello \"\n",
    "s2 = \"World!\"\n",
    "print(f'Addition of {s1} and {s2} is: {my_addition(s1,s2)}')\n",
    "\n",
    "arr1 = [1,2,3]\n",
    "arr2 = [4,5,6] \n",
    "print(f'Addition of {arr1} and {arr2} is: {my_addition(arr1,arr2)}')"
   ]
  },
  {
   "cell_type": "markdown",
   "metadata": {},
   "source": [
    "If this flexibility bothers you, you can *hint* at what type should be used in your function (note that this is not enforced!). Python is however designed not to discriminate based on type, so don't force it unless you really need too."
   ]
  },
  {
   "cell_type": "code",
   "execution_count": 7,
   "metadata": {},
   "outputs": [
    {
     "data": {
      "text/plain": [
       "'Hello World!'"
      ]
     },
     "execution_count": 7,
     "metadata": {},
     "output_type": "execute_result"
    }
   ],
   "source": [
    "def my_int_addition(x : int, y : int) -> int:\n",
    "    return x + y\n",
    "\n",
    "my_int_addition(s1, s2) # try replacing the function parameters to see the hinted types"
   ]
  },
  {
   "cell_type": "markdown",
   "metadata": {},
   "source": [
    "### Loop and Standard Logical Operations\n",
    "\n",
    "Python is **very** slow with normal loop architecture (again, low efficiency in run time allocation of ressources)."
   ]
  },
  {
   "cell_type": "code",
   "execution_count": 8,
   "metadata": {},
   "outputs": [
    {
     "name": "stdout",
     "output_type": "stream",
     "text": [
      "1\n",
      "3.5\n",
      "potato\n",
      " \n",
      "0: 1\n",
      "1: 3.5\n",
      "2: potato\n",
      " \n",
      "1 4\n",
      "2 5\n",
      "3 6\n",
      " \n",
      "0\n",
      "1\n",
      "2\n",
      "3\n",
      "4\n"
     ]
    }
   ],
   "source": [
    "# standard for-loop structure, Python uses iterators!\n",
    "for item in multi_type_list:\n",
    "    print(item)\n",
    "print(\" \")\n",
    "\n",
    "# you can also get the index through enumerators\n",
    "for index, item in enumerate(multi_type_list):\n",
    "    print(f'{index}: {item}')\n",
    "print(\" \")\n",
    "\n",
    "# you can get multiple lists at the same time by zipping them\n",
    "for item1, item2 in zip(arr1, arr2):\n",
    "    print(item1, item2)\n",
    "print(\" \")\n",
    "\n",
    "# other loops & if statements\n",
    "my_bool = True\n",
    "counter = 0\n",
    "while(my_bool):\n",
    "    if(counter > 3 and (counter != 0 or counter == 2)):\n",
    "        my_bool = False \n",
    "    print(counter)\n",
    "    counter += 1"
   ]
  },
  {
   "cell_type": "markdown",
   "metadata": {},
   "source": [
    "### However, because Python has slow loops, we use array operations to be **faster**!"
   ]
  },
  {
   "cell_type": "code",
   "execution_count": 9,
   "metadata": {},
   "outputs": [
    {
     "name": "stdout",
     "output_type": "stream",
     "text": [
      "9.261501900000013\n",
      "107.91238399999997\n"
     ]
    }
   ],
   "source": [
    "import timeit\n",
    "\n",
    "#summing array length 500 with numpy array operations\n",
    "import_module = \"import numpy as np\"\n",
    "\n",
    "testcode = '''\n",
    "np.sum(np.arange(500))\n",
    "'''\n",
    "print(timeit.timeit(stmt=testcode, setup=import_module))\n",
    "\n",
    "#summing array length 500 with native python loops \n",
    "import_module = \"import numpy as np\"\n",
    "\n",
    "testcode = '''\n",
    "total = 0\n",
    "for i in np.arange(500):\n",
    "    total += i\n",
    "'''\n",
    "print(timeit.timeit(stmt=testcode, setup=import_module))"
   ]
  },
  {
   "cell_type": "markdown",
   "metadata": {},
   "source": [
    "#### If there is a package for it, **always** use it! Most of your calculations have premade librairy implementations: sum, mean, std, ... \n",
    "\n",
    "If your function is more complicated, using  maps or list comprehensions is good! It will usually be slightly faster (e.g. map has some C backend)."
   ]
  },
  {
   "cell_type": "code",
   "execution_count": 10,
   "metadata": {},
   "outputs": [],
   "source": [
    "import numpy as np\n",
    "\n",
    "long_array = np.arange(500)\n",
    "\n",
    "#find which numbers modulo 5\n",
    "def modulo(n):\n",
    "    if n%5 == 0:\n",
    "        return True\n",
    "    else:\n",
    "        return False\n",
    "\n",
    "modified_list_map = list(map(modulo, long_array)) # map your function unto the array, and make a list out of it\n",
    "#print(modified_array)\n",
    "\n",
    "modified_list_comprehension = [True if n%5 == 0 else False for n in long_array] # use array comprehension \n",
    "#print(modified_list_comprehension)"
   ]
  },
  {
   "cell_type": "markdown",
   "metadata": {},
   "source": [
    "## Plotting with functions and maps"
   ]
  },
  {
   "cell_type": "code",
   "execution_count": 11,
   "metadata": {},
   "outputs": [
    {
     "data": {
      "image/png": "[encoded data removed]",
      "text/plain": [
       "<Figure size 500x500 with 1 Axes>"
      ]
     },
     "metadata": {},
     "output_type": "display_data"
    }
   ],
   "source": [
    "import matplotlib.pyplot as plt\n",
    "\n",
    "size, scale = 1000, 10\n",
    "generated_numbers = np.array(np.random.gamma(scale, size=size) ** 1.5)\n",
    "\n",
    "def my_plotting_script(kwargs, other):\n",
    "    plt.figure(figsize=(5,5))\n",
    "    plt.hist(generated_numbers, **kwargs, **other)\n",
    "    plt.legend()\n",
    "    plt.xlim(0,100)\n",
    "    plt.yscale('log')\n",
    "    plt.xlabel('generated numbers')\n",
    "    plt.ylabel('N')\n",
    "\n",
    "kwargs = {\n",
    "            'bins':100,\n",
    "            'color':'red',\n",
    "            'alpha':0.6\n",
    "            }\n",
    "\n",
    "other = {\n",
    "            'label':'my_hist',\n",
    "            'histtype':'step',\n",
    "}\n",
    "\n",
    "my_plotting_script(kwargs, other)"
   ]
  },
  {
   "cell_type": "markdown",
   "metadata": {},
   "source": [
    "## Pandas\n",
    "\n",
    "Pandas is a **very** fast library that allows you to manipulate large amount of data in Python."
   ]
  },
  {
   "cell_type": "code",
   "execution_count": 12,
   "metadata": {},
   "outputs": [
    {
     "data": {
      "text/html": [
       "<div>\n",
       "<style scoped>\n",
       "    .dataframe tbody tr th:only-of-type {\n",
       "        vertical-align: middle;\n",
       "    }\n",
       "\n",
       "    .dataframe tbody tr th {\n",
       "        vertical-align: top;\n",
       "    }\n",
       "\n",
       "    .dataframe thead th {\n",
       "        text-align: right;\n",
       "    }\n",
       "</style>\n",
       "<table border=\"1\" class=\"dataframe\">\n",
       "  <thead>\n",
       "    <tr style=\"text-align: right;\">\n",
       "      <th></th>\n",
       "      <th>a</th>\n",
       "      <th>b</th>\n",
       "    </tr>\n",
       "  </thead>\n",
       "  <tbody>\n",
       "    <tr>\n",
       "      <th>0</th>\n",
       "      <td>3.726929</td>\n",
       "      <td>15.662225</td>\n",
       "    </tr>\n",
       "    <tr>\n",
       "      <th>1</th>\n",
       "      <td>6.576926</td>\n",
       "      <td>14.048523</td>\n",
       "    </tr>\n",
       "    <tr>\n",
       "      <th>2</th>\n",
       "      <td>4.425800</td>\n",
       "      <td>13.755560</td>\n",
       "    </tr>\n",
       "    <tr>\n",
       "      <th>3</th>\n",
       "      <td>3.646886</td>\n",
       "      <td>15.306865</td>\n",
       "    </tr>\n",
       "    <tr>\n",
       "      <th>4</th>\n",
       "      <td>3.444027</td>\n",
       "      <td>15.470125</td>\n",
       "    </tr>\n",
       "    <tr>\n",
       "      <th>...</th>\n",
       "      <td>...</td>\n",
       "      <td>...</td>\n",
       "    </tr>\n",
       "    <tr>\n",
       "      <th>995</th>\n",
       "      <td>4.517987</td>\n",
       "      <td>16.688017</td>\n",
       "    </tr>\n",
       "    <tr>\n",
       "      <th>996</th>\n",
       "      <td>4.805135</td>\n",
       "      <td>14.430699</td>\n",
       "    </tr>\n",
       "    <tr>\n",
       "      <th>997</th>\n",
       "      <td>5.492917</td>\n",
       "      <td>15.436803</td>\n",
       "    </tr>\n",
       "    <tr>\n",
       "      <th>998</th>\n",
       "      <td>3.818426</td>\n",
       "      <td>14.351576</td>\n",
       "    </tr>\n",
       "    <tr>\n",
       "      <th>999</th>\n",
       "      <td>6.083864</td>\n",
       "      <td>14.806251</td>\n",
       "    </tr>\n",
       "  </tbody>\n",
       "</table>\n",
       "<p>1000 rows × 2 columns</p>\n",
       "</div>"
      ],
      "text/plain": [
       "            a          b\n",
       "0    3.726929  15.662225\n",
       "1    6.576926  14.048523\n",
       "2    4.425800  13.755560\n",
       "3    3.646886  15.306865\n",
       "4    3.444027  15.470125\n",
       "..        ...        ...\n",
       "995  4.517987  16.688017\n",
       "996  4.805135  14.430699\n",
       "997  5.492917  15.436803\n",
       "998  3.818426  14.351576\n",
       "999  6.083864  14.806251\n",
       "\n",
       "[1000 rows x 2 columns]"
      ]
     },
     "execution_count": 12,
     "metadata": {},
     "output_type": "execute_result"
    }
   ],
   "source": [
    "import pandas as pd\n",
    "\n",
    "# creating a pandas dataframe\n",
    "# you can read csv files using: df = pd.read_csv(r'Path where the CSV file is stored\\File name.csv') \n",
    "\n",
    "n = 1000\n",
    "a_bar = 5; a_sd = 1\n",
    "b_bar = 15; b_sd = 1\n",
    "df = pd.DataFrame(dict(a=np.random.normal(a_bar, a_sd, size=n),\n",
    "                       b=np.random.normal(b_bar, b_sd, size=n)),\n",
    "                  columns=['a', 'b'])\n",
    "\n",
    "df"
   ]
  },
  {
   "cell_type": "code",
   "execution_count": 13,
   "metadata": {},
   "outputs": [
    {
     "data": {
      "image/png": "[encoded data removed]",
      "text/plain": [
       "<Figure size 640x480 with 1 Axes>"
      ]
     },
     "metadata": {},
     "output_type": "display_data"
    }
   ],
   "source": [
    "# Plotting our pandas dataframe\n",
    "plt.hist(df['a'], label='a')\n",
    "plt.hist(df['b'], label='b')\n",
    "plt.legend()\n",
    "plt.show()\n"
   ]
  },
  {
   "cell_type": "code",
   "execution_count": 19,
   "metadata": {},
   "outputs": [
    {
     "data": {
      "text/plain": [
       "<seaborn.axisgrid.PairGrid at 0x2172eadd540>"
      ]
     },
     "execution_count": 19,
     "metadata": {},
     "output_type": "execute_result"
    },
    {
     "data": {
      "image/png": "[encoded data removed]",
      "text/plain": [
       "<Figure size 500x500 with 6 Axes>"
      ]
     },
     "metadata": {},
     "output_type": "display_data"
    }
   ],
   "source": [
    "# plotting data relation using seaborn\n",
    "import seaborn as sns\n",
    "\n",
    "sns.pairplot(df)"
   ]
  },
  {
   "cell_type": "markdown",
   "metadata": {},
   "source": [
    "For more complicated operations on the dataframe, use mask with logical conditions"
   ]
  },
  {
   "cell_type": "code",
   "execution_count": 22,
   "metadata": {},
   "outputs": [
    {
     "data": {
      "text/html": [
       "<div>\n",
       "<style scoped>\n",
       "    .dataframe tbody tr th:only-of-type {\n",
       "        vertical-align: middle;\n",
       "    }\n",
       "\n",
       "    .dataframe tbody tr th {\n",
       "        vertical-align: top;\n",
       "    }\n",
       "\n",
       "    .dataframe thead th {\n",
       "        text-align: right;\n",
       "    }\n",
       "</style>\n",
       "<table border=\"1\" class=\"dataframe\">\n",
       "  <thead>\n",
       "    <tr style=\"text-align: right;\">\n",
       "      <th></th>\n",
       "      <th>a</th>\n",
       "      <th>b</th>\n",
       "    </tr>\n",
       "  </thead>\n",
       "  <tbody>\n",
       "    <tr>\n",
       "      <th>2</th>\n",
       "      <td>4.425800</td>\n",
       "      <td>13.755560</td>\n",
       "    </tr>\n",
       "    <tr>\n",
       "      <th>5</th>\n",
       "      <td>5.261301</td>\n",
       "      <td>16.029750</td>\n",
       "    </tr>\n",
       "    <tr>\n",
       "      <th>6</th>\n",
       "      <td>4.632454</td>\n",
       "      <td>15.029536</td>\n",
       "    </tr>\n",
       "    <tr>\n",
       "      <th>7</th>\n",
       "      <td>5.247991</td>\n",
       "      <td>14.306353</td>\n",
       "    </tr>\n",
       "    <tr>\n",
       "      <th>8</th>\n",
       "      <td>4.801727</td>\n",
       "      <td>15.410959</td>\n",
       "    </tr>\n",
       "    <tr>\n",
       "      <th>...</th>\n",
       "      <td>...</td>\n",
       "      <td>...</td>\n",
       "    </tr>\n",
       "    <tr>\n",
       "      <th>992</th>\n",
       "      <td>4.759359</td>\n",
       "      <td>16.007632</td>\n",
       "    </tr>\n",
       "    <tr>\n",
       "      <th>993</th>\n",
       "      <td>5.513683</td>\n",
       "      <td>15.385530</td>\n",
       "    </tr>\n",
       "    <tr>\n",
       "      <th>995</th>\n",
       "      <td>4.517987</td>\n",
       "      <td>16.688017</td>\n",
       "    </tr>\n",
       "    <tr>\n",
       "      <th>996</th>\n",
       "      <td>4.805135</td>\n",
       "      <td>14.430699</td>\n",
       "    </tr>\n",
       "    <tr>\n",
       "      <th>997</th>\n",
       "      <td>5.492917</td>\n",
       "      <td>15.436803</td>\n",
       "    </tr>\n",
       "  </tbody>\n",
       "</table>\n",
       "<p>682 rows × 2 columns</p>\n",
       "</div>"
      ],
      "text/plain": [
       "            a          b\n",
       "2    4.425800  13.755560\n",
       "5    5.261301  16.029750\n",
       "6    4.632454  15.029536\n",
       "7    5.247991  14.306353\n",
       "8    4.801727  15.410959\n",
       "..        ...        ...\n",
       "992  4.759359  16.007632\n",
       "993  5.513683  15.385530\n",
       "995  4.517987  16.688017\n",
       "996  4.805135  14.430699\n",
       "997  5.492917  15.436803\n",
       "\n",
       "[682 rows x 2 columns]"
      ]
     },
     "execution_count": 22,
     "metadata": {},
     "output_type": "execute_result"
    }
   ],
   "source": [
    "# use masks to manipulate data\n",
    "mask = (df['a'] < df['a'].mean() + 1) & (df['a'] > df['a'].mean() - 1) # here you need to use the tranditional logical operators & (and), | (or)\n",
    "#print(mask)\n",
    "\n",
    "df_modified_b = df[mask]\n",
    "df_modified_b"
   ]
  },
  {
   "cell_type": "markdown",
   "metadata": {},
   "source": [
    "### Object Oriented Programming (OOP) in Python "
   ]
  },
  {
   "cell_type": "code",
   "execution_count": 16,
   "metadata": {},
   "outputs": [
    {
     "name": "stdout",
     "output_type": "stream",
     "text": [
      "The volume of my cube is : 8\n"
     ]
    }
   ],
   "source": [
    "# Our class will define things that relate to cubes \n",
    "class Cube:\n",
    "    length = 2\n",
    "\n",
    "    def volume(self):\n",
    "        return self.length**3\n",
    "\n",
    "my_cube = Cube()\n",
    "print(f'The volume of my cube is : {my_cube.volume()}')"
   ]
  },
  {
   "cell_type": "code",
   "execution_count": 17,
   "metadata": {},
   "outputs": [
    {
     "name": "stdout",
     "output_type": "stream",
     "text": [
      "this is an object that contains a shape and its vertices\n",
      "vertex #0 is located at 1, 1, 0\n",
      "vertex #1 is located at 1, 0, 1\n",
      "vertex #2 is located at 0, 1, 1\n",
      "vertex #3 is located at 0, 0, 0\n"
     ]
    },
    {
     "data": {
      "image/png": "[encoded data removed]",
      "text/plain": [
       "<Figure size 640x480 with 1 Axes>"
      ]
     },
     "metadata": {},
     "output_type": "display_data"
    }
   ],
   "source": [
    "# A more involved class...\n",
    "from dataclasses import dataclass\n",
    "\n",
    "@dataclass\n",
    "class Vertices:\n",
    "    x: float\n",
    "    y: float\n",
    "    z: float\n",
    "\n",
    "class Shape:\n",
    "    def __init__(self, list_vertices: list[list[int]]):\n",
    "        self.n_vertices = len(list_vertices)\n",
    "        self.vertices = self.define_vertices(list_vertices) \n",
    "\n",
    "    def __str__(self) -> str:\n",
    "        return \"this is an object that contains a shape and its vertices\"\n",
    "\n",
    "    def define_vertices(self, list_vertices) -> list[Vertices]:\n",
    "        list_object = [Vertices(*i) for i in list_vertices] \n",
    "        return list_object\n",
    "\n",
    "    def print_vertex(self):\n",
    "        for index, vertex in enumerate(self.vertices):\n",
    "            print(f'vertex #{index} is located at {vertex.x}, {vertex.y}, {vertex.z}')\n",
    "\n",
    "    def display_vertices(self):\n",
    "        ax = plt.axes(projection='3d')\n",
    "        xdata = [i.x for i in self.vertices]\n",
    "        ydata = [i.y for i in self.vertices]\n",
    "        zdata = [i.z for i in self.vertices]\n",
    "\n",
    "        ax.scatter3D(xdata, ydata, zdata)\n",
    "        ax.plot3D(xdata,ydata,zdata)\n",
    "\n",
    "        ax.set_xlabel('x')\n",
    "        ax.set_ylabel('y')\n",
    "\n",
    "\n",
    "my_shape = Shape([[1,1,0],[1,0,1],[0,1,1], [0,0,0]])  \n",
    "print(my_shape)\n",
    "my_shape.print_vertex()\n",
    "my_shape.display_vertices()\n"
   ]
  }
 ],
 "metadata": {
  "kernelspec": {
   "display_name": "Python 3.10.5 64-bit",
   "language": "python",
   "name": "python3"
  },
  "language_info": {
   "codemirror_mode": {
    "name": "ipython",
    "version": 3
   },
   "file_extension": ".py",
   "mimetype": "text/x-python",
   "name": "python",
   "nbconvert_exporter": "python",
   "pygments_lexer": "ipython3",
   "version": "3.10.5"
  },
  "orig_nbformat": 4,
  "vscode": {
   "interpreter": {
    "hash": "25072da81dc57fa72136c82e6d19718a14c5723642e18451d5b885d66dc079e9"
   }
  }
 },
 "nbformat": 4,
 "nbformat_minor": 2
}
